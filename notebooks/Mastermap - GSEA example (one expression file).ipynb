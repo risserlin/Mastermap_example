{
 "cells": [
  {
   "cell_type": "markdown",
   "metadata": {},
   "source": [
    "# Mastermap\n",
    "------\n",
    "Mastermap is an Enrichment map that contains more than 2 enrichment analyses.\n",
    "\n",
    "![Pandey mastermap example](./gsea_mastermap.png)\n",
    "\n",
    "## Input\n",
    "\n",
    "1. ***Expression file (Optional)*** - a file with absolute or relative expression values for a set of genes and experiments.\n",
    "  * Two different options:\n",
    "    * One expression file where each column represents an individual experiment and there are N columns (one for each of the N experiments.)\n",
    "    * N expression files where each file contains the expression for each experiment (possibly with ctrl vs treatment values)\n",
    "    \n",
    "1. ***Enrichment Results***\n",
    "  * Two different options:\n",
    "    * GSEA results\n",
    "      * a GMT file\n",
    "      * N GSEA output directories with enrichment results\n",
    "    * Gprofiler/David/Bingo results\n",
    "      * N enrichment results files.\n",
    "      \n",
    "1. ***User specified parameters***:\n",
    "  * p-value threshold (Optional)\n",
    "  * q-value threshold\n",
    "  * Minimum number of experiments pathway needs to appear in for it to be included in output\n",
    "  * NES threshold (Optional, GSEA speciric, not sure if it is required)\n",
    "\n",
    "------\n",
    "\n",
    "## Generating a Mastermap in the absence of an app.\n",
    "\n",
    "### Collate all the GSEA enrichment results.\n",
    "\n",
    "1. Place all the GSEA enrichment folders into one directory.\n",
    "1. Navigate to that directory and run the following shell script\n",
    "<pre>\n",
    "`\n",
    "    #go through each directory\n",
    "    for dir in `ls -d *.GseaPreranked.*`; do\n",
    "        cd $dir\n",
    "        NAME1=`echo $dir | cut -d'.' -f1 | cut -d '_' -f1`\n",
    "        NAME2=`echo $dir | cut -d'.' -f1 | cut -d '_' -f2`\n",
    "        NAME=${NAME1}_${NAME2}\n",
    "        #append the name to the sea results file\n",
    "        for file in `ls gsea_report*.xls`; do\t\t\n",
    "            awk -v name=\"${NAME}\" '{print name\"\\t\", $0}' $file > ${file}_forR\n",
    "            #remove the first line\n",
    "            tail +2 ${file}_forR > temp.txt\n",
    "            mv temp.txt ${file}_forR\n",
    "        done\n",
    "        mv *_forR ../\n",
    "        cd ..\n",
    "    done\n",
    "    #merge all results into one file\n",
    "    cat *_forR > Gsea_reports_alltissues.txt\n",
    "    rm *_forR\n",
    "`\n",
    "</pre>\n",
    "1. The above shell script will go into each of the GSEA directories (based on the presence of \".GseaPreranked.\" in the folder name.  If GSEA was not run with preranked option then swap \".GseaPreranked.\" for \".Gsea.\") and append the folder name (minus the GSEA added analysis type and random number) as the first column to the gsea positive and negative results file.  The files for each of the folders is appended to create the file   \n",
    "  * GSEA results files contain the following headers:\n",
    "    1. NAME\n",
    "    1. GS - link to MSigDB\n",
    "    1. GS DETAILs\n",
    "    1. SIZE\n",
    "    1. ES\n",
    "    1. NES\n",
    "    1. NOM p-val\n",
    "    1. FDR q-val\n",
    "    1. FWER p-val\n",
    "    1. RANK AT MAX\n",
    "    1. LEADING EDGE\n",
    "  * Resulting \"Gsea_reports_alltisues.txt\" file contains the same headers with the addition of one column in front of Name\n",
    "    1. Analysis name - taken from the name of the GSEA results directory."
   ]
  },
  {
   "cell_type": "markdown",
   "metadata": {},
   "source": [
    "### User defined thresholds"
   ]
  },
  {
   "cell_type": "code",
   "execution_count": 1,
   "metadata": {
    "collapsed": true
   },
   "outputs": [],
   "source": [
    "pval_thresh <- 0.01\n",
    "fdr_thresh <- 0.01\n",
    "NES_thresh <- 0\n",
    "min_experiments <- 3\n",
    "\n",
    "similarity_cutoff <- \"0.25\"\n",
    "similarity_metric <- \"JACCARD\""
   ]
  },
  {
   "cell_type": "markdown",
   "metadata": {},
   "source": [
    "### Load the file containing the collated GSEA results"
   ]
  },
  {
   "cell_type": "code",
   "execution_count": 2,
   "metadata": {
    "collapsed": true
   },
   "outputs": [],
   "source": [
    "#set working directory\n",
    "setwd(\"./One_expression_file_example/GSEA_results/\");"
   ]
  },
  {
   "cell_type": "code",
   "execution_count": 9,
   "metadata": {
    "collapsed": false
   },
   "outputs": [],
   "source": [
    "gsea_enrichments <- read.table(\"Gsea_reports_alltissues.txt\", header = TRUE, sep = \"\\t\",as.is = TRUE, quote=\"\\\"\")\n",
    "\n",
    "colnames(gsea_enrichments) <- c(\"Experiment\",\"Name\",\"GS\",\"GS DETAILS\",\"SIZE\",\"ES\", \"NES\",\n",
    "                                \"NOM p-val\",\"FDR q-val\",\"FWER p-val\",\"RANK AT MAX\",\"LEADING EDGE\");\n",
    "\n",
    "\n",
    "#filter gsea enrichment by thresholds\n",
    "#only include NES scores that are > 0 (for the proteomics data the under-enriched is not fitting for this analysis)\n",
    "gsea_enrichments_filtered <- gsea_enrichments[which(gsea_enrichments[,'NOM p-val']<=pval_thresh & \n",
    "                                                    gsea_enrichments[,'FDR q-val']<=fdr_thresh & \n",
    "                                                    gsea_enrichments[,'NES']>NES_thresh),]\n",
    "\n",
    "#row_names - get the unique set of pathways that is contained in the collated data.  column 2 indicates the pathway name\n",
    "row_names <- unique(gsea_enrichments_filtered[,2])\n",
    "#column_names - get the unique set of experiments contains in the collated data.  column 1 indicates the experiment type\n",
    "column_names <- unique(gsea_enrichments_filtered[,1])\n",
    "\n",
    "#create a matrix which will store the tissue profiles for all genesets in the thresholded set\n",
    "pathways2experiments_significant <- matrix(nrow=length(row_names), ncol=length(column_names),dimnames=list(row_names, column_names))\n",
    "pathways2experiments_all <- matrix(nrow=length(row_names), ncol=length(column_names),dimnames=list(row_names, column_names))\n",
    "\n",
    "for (i in 1:length(row_names)){\n",
    "  for (j in 1:length(column_names)){\n",
    "      #only add the NES value if this pathway is significant for this experiment\n",
    "    if(length(which(gsea_enrichments_filtered[,1] == column_names[j] & \n",
    "                    gsea_enrichments_filtered[,2] == row_names[i])) > 0 ){\n",
    "        pathways2experiments_significant[i,j] = gsea_enrichments_filtered[which(gsea_enrichments_filtered[,1] == column_names[j] & \n",
    "                                                               gsea_enrichments_filtered[,2] == row_names[i]), 'NES']   \n",
    "    }\n",
    "      #only add the NES value if it exists in the enrichments (irrespective of significance)\n",
    "      if(length(which(gsea_enrichments[,1] == column_names[j] & \n",
    "                    gsea_enrichments[,2] == row_names[i])) > 0 ){\n",
    "      pathways2experiments_all[i,j] = gsea_enrichments[which(gsea_enrichments[,1] == column_names[j] & \n",
    "                                                               gsea_enrichments[,2] == row_names[i]), 'NES']\n",
    "      }\n",
    "  }\n",
    "}\n",
    "\n",
    "# only include the pathways that are significant in at least X experiments\n",
    "pathways2experiments_significant <- pathways2experiments_significant[\n",
    "    which(apply(pathways2experiments_significant,1, function(x){length(which(x!=0))}) >= min_experiments),]\n",
    "pathways2experiments_all <- pathways2experiments_all[\n",
    "    which(apply(pathways2experiments_significant,1, function(x){length(which(x!=0))}) >= min_experiments),]\n",
    "\n",
    "\n",
    "\n",
    "\n",
    "\n",
    "# create a fake gsea summary enrichment file.  Can't use generic without loading in the gmt file and computing genes\n",
    "# that belong to each set.  In order to use gsea option enrichment file needs to be in the same format as gsea.\n",
    "\n",
    "#create a collapsed enrichment file\n",
    "# NES and ES are just the summed values\n",
    "# p-value and q-value is the average\n",
    "collapsedenr_column_names = c(\"Name\",\"GS\",\"GS DETAILS\",\"SIZE\",\"ES\", \"NES\",\"NOM p-val\",\"FDR q-val\",\"FWER p-val\",\"RANK AT MAX\",\"LEADING EDGE\");\n",
    "\n",
    "#limit to a subset\n",
    "row_names_subset <- rownames(pathways2experiments_significant)[\n",
    "    which(apply(pathways2experiments_significant,1, function(x){length(which(x!=0))}) >= min_experiments)]\n",
    "\n",
    "collapsed_enrichments<- matrix(nrow=length(row_names_subset), ncol=length(collapsedenr_column_names),\n",
    "                               dimnames=list(row_names_subset, collapsedenr_column_names))\n",
    "#go through the genesets\n",
    "for (i in 1:length(row_names_subset)){\n",
    "  #get all the genesets from the filtered set\n",
    "  indices <- which(gsea_enrichments_filtered[,2] == row_names_subset[i])\n",
    "  subset <- gsea_enrichments_filtered[indices,];\n",
    "  #grab the first name,gs,gs details, size - they are all the same \n",
    "  collapsed_enrichments[i,1] <- subset[1,2]\n",
    "  collapsed_enrichments[i,2] <- subset[1,3]\n",
    "  collapsed_enrichments[i,3] <- subset[1,4]\n",
    "  collapsed_enrichments[i,4] <- subset[1,5]\n",
    "  #get the summed ES score\n",
    "  collapsed_enrichments[i,5] <- sum(subset[,6])\n",
    "  #get the summed NES score\n",
    "  collapsed_enrichments[i,6] <- sum(subset[,7])\n",
    "  #get the average pvalue\n",
    "  collapsed_enrichments[i,7] <- 0.01\n",
    "  #get the average fdr\n",
    "  collapsed_enrichments[i,8] <- 0.01\n",
    "  #get the average FWER\n",
    "  collapsed_enrichments[i,9] <- mean(subset[,10])\n",
    "  #get the first rank at max\n",
    "  collapsed_enrichments[i,10] <- max(subset[,11])\n",
    "  collapsed_enrichments[i,11] <- subset[1,12]\n",
    "\n",
    "}\n"
   ]
  },
  {
   "cell_type": "markdown",
   "metadata": {},
   "source": [
    "### Get rid of the blank spaces in the pathway names"
   ]
  },
  {
   "cell_type": "code",
   "execution_count": 14,
   "metadata": {
    "collapsed": false
   },
   "outputs": [],
   "source": [
    "collapsed_enrichments[,1] <- trimws(collapsed_enrichments[,1])\n",
    "collapsed_enrichments[,2] <- trimws(collapsed_enrichments[,2])\n",
    "rownames(collapsed_enrichments) <- trimws(rownames(collapsed_enrichments))"
   ]
  },
  {
   "cell_type": "markdown",
   "metadata": {},
   "source": [
    "### Output files that could have been used by vista clara (in previous version of cytoscape) and in current version charts"
   ]
  },
  {
   "cell_type": "code",
   "execution_count": 38,
   "metadata": {
    "collapsed": true
   },
   "outputs": [],
   "source": [
    "#output the pathways2experiments_all\n",
    "#\n",
    "# The pathways2experiments file is a matrix of pathways to experiments where each value in the matrix is a significant NES value.\n",
    "# This table can be used to calculate which genesets pass the minimum expereiment threshold but should not be used \n",
    "# as an expression file for vista clara plugin as it is missing NES values for pathways and experiments that were not significant\n",
    "\n",
    "pathways2experiments_all[is.na(pathways2experiments_all)] <- 0\n",
    "#we are not interested in the sets that are significant in rest of the tissues.\n",
    "pathways2experiments_all[which(pathways2experiments_all < 0)] <- 0\n",
    "rownames(pathways2experiments_all) <- trimws(rownames(pathways2experiments_all))\n",
    "output_pathways2experiments_all <- cbind(rownames(pathways2experiments_all), pathways2experiments_all)\n",
    "\n",
    "output_pathways2experiments_all <- output_pathways2experiments_all[grep(output_pathways2experiments_all[,1],\n",
    "                                              pattern = \"TCR SIGNALING IN NA\",\n",
    "                                              invert=TRUE),]\n",
    "output_pathways2experiments_all<- output_pathways2experiments_all[grep(output_pathways2experiments_all[,1],\n",
    "                                              pattern = \"LOSS OF PROTEINS REQUIRED FOR INTERPHASE MICROTUBULE\",\n",
    "                                              invert=TRUE),]\n",
    "output_pathways2experiments_all<- output_pathways2experiments_all[grep(output_pathways2experiments_all[,1],\n",
    "                                              pattern = \"DOWNSTREAM SIGNALING IN NA\",\n",
    "                                              invert=TRUE),]\n",
    "write.table(output_pathways2experiments_all, file=\"pathways2experiments_all.txt\", sep=\"\\t\", \n",
    "            row.names=FALSE, col.names=TRUE,quote=FALSE)\n",
    "\n",
    "\n",
    "#output the pathways2experiments_significant as well\n",
    "#\n",
    "\n",
    "pathways2experiments_significant[is.na(pathways2experiments_significant)] <- 0\n",
    "rownames(pathways2experiments_significant) <- trimws(rownames(pathways2experiments_significant))\n",
    "output_pathways2experiments_significant <- cbind(rownames(pathways2experiments_significant), pathways2experiments_significant)\n",
    "\n",
    "output_pathways2experiments_significant <- output_pathways2experiments_significant[grep(output_pathways2experiments_significant[,1],\n",
    "                                              pattern = \"TCR SIGNALING IN NA\",\n",
    "                                              invert=TRUE),]\n",
    "output_pathways2experiments_significant<- output_pathways2experiments_significant[grep(output_pathways2experiments_significant[,1],\n",
    "                                              pattern = \"LOSS OF PROTEINS REQUIRED FOR INTERPHASE MICROTUBULE\",\n",
    "                                              invert=TRUE),]\n",
    "output_pathways2experiments_significant <- output_pathways2experiments_significant[grep(output_pathways2experiments_significant[,1],\n",
    "                                              pattern = \"DOWNSTREAM SIGNALING IN NA\",\n",
    "                                              invert=TRUE),]\n",
    "\n",
    "write.table(output_pathways2experiments_significant, file=\"pathways2experiments_significant.txt\", sep=\"\\t\", \n",
    "            row.names=FALSE, col.names=TRUE,quote=FALSE)\n"
   ]
  },
  {
   "cell_type": "markdown",
   "metadata": {},
   "source": [
    "## Get rid of genesets that get messed up in R because of weird characters in their name"
   ]
  },
  {
   "cell_type": "code",
   "execution_count": 3,
   "metadata": {
    "collapsed": false
   },
   "outputs": [],
   "source": [
    "#to save on computation you can reload previous computed collapsed enrichments\n",
    "#enrichment_results_file_name <- paste(\"mastermap_enrichments_fdr\", fdr_thresh, \"_minexp\", min_experiments,\".txt\", sep=\"\")\n",
    "#collapsed_enrichments <- read.table(enrichment_results_file_name, , header = TRUE, sep = \"\\t\",as.is = TRUE, quote=\"\\\"\")"
   ]
  },
  {
   "cell_type": "code",
   "execution_count": 36,
   "metadata": {
    "collapsed": false
   },
   "outputs": [
    {
     "data": {
      "text/html": [
       "'LC_CTYPE=C;LC_NUMERIC=C;LC_TIME=C;LC_COLLATE=C;LC_MONETARY=C;LC_MESSAGES=en_US.UTF-8;LC_PAPER=en_US.UTF-8;LC_NAME=C;LC_ADDRESS=C;LC_TELEPHONE=C;LC_MEASUREMENT=en_US.UTF-8;LC_IDENTIFICATION=C'"
      ],
      "text/latex": [
       "'LC_CTYPE=C;LC_NUMERIC=C;LC_TIME=C;LC_COLLATE=C;LC_MONETARY=C;LC_MESSAGES=en_US.UTF-8;LC_PAPER=en_US.UTF-8;LC_NAME=C;LC_ADDRESS=C;LC_TELEPHONE=C;LC_MEASUREMENT=en_US.UTF-8;LC_IDENTIFICATION=C'"
      ],
      "text/markdown": [
       "'LC_CTYPE=C;LC_NUMERIC=C;LC_TIME=C;LC_COLLATE=C;LC_MONETARY=C;LC_MESSAGES=en_US.UTF-8;LC_PAPER=en_US.UTF-8;LC_NAME=C;LC_ADDRESS=C;LC_TELEPHONE=C;LC_MEASUREMENT=en_US.UTF-8;LC_IDENTIFICATION=C'"
      ],
      "text/plain": [
       "[1] \"LC_CTYPE=C;LC_NUMERIC=C;LC_TIME=C;LC_COLLATE=C;LC_MONETARY=C;LC_MESSAGES=en_US.UTF-8;LC_PAPER=en_US.UTF-8;LC_NAME=C;LC_ADDRESS=C;LC_TELEPHONE=C;LC_MEASUREMENT=en_US.UTF-8;LC_IDENTIFICATION=C\""
      ]
     },
     "execution_count": 36,
     "metadata": {},
     "output_type": "execute_result"
    },
    {
     "data": {
      "text/html": [
       "'LC_CTYPE=C;LC_NUMERIC=C;LC_TIME=C;LC_COLLATE=C;LC_MONETARY=C;LC_MESSAGES=en_US.UTF-8;LC_PAPER=en_US.UTF-8;LC_NAME=C;LC_ADDRESS=C;LC_TELEPHONE=C;LC_MEASUREMENT=en_US.UTF-8;LC_IDENTIFICATION=C'"
      ],
      "text/latex": [
       "'LC_CTYPE=C;LC_NUMERIC=C;LC_TIME=C;LC_COLLATE=C;LC_MONETARY=C;LC_MESSAGES=en_US.UTF-8;LC_PAPER=en_US.UTF-8;LC_NAME=C;LC_ADDRESS=C;LC_TELEPHONE=C;LC_MEASUREMENT=en_US.UTF-8;LC_IDENTIFICATION=C'"
      ],
      "text/markdown": [
       "'LC_CTYPE=C;LC_NUMERIC=C;LC_TIME=C;LC_COLLATE=C;LC_MONETARY=C;LC_MESSAGES=en_US.UTF-8;LC_PAPER=en_US.UTF-8;LC_NAME=C;LC_ADDRESS=C;LC_TELEPHONE=C;LC_MEASUREMENT=en_US.UTF-8;LC_IDENTIFICATION=C'"
      ],
      "text/plain": [
       "[1] \"LC_CTYPE=C;LC_NUMERIC=C;LC_TIME=C;LC_COLLATE=C;LC_MONETARY=C;LC_MESSAGES=en_US.UTF-8;LC_PAPER=en_US.UTF-8;LC_NAME=C;LC_ADDRESS=C;LC_TELEPHONE=C;LC_MEASUREMENT=en_US.UTF-8;LC_IDENTIFICATION=C\""
      ]
     },
     "execution_count": 36,
     "metadata": {},
     "output_type": "execute_result"
    }
   ],
   "source": [
    "Sys.getlocale()\n",
    "Sys.setlocale(locale=\"C\")"
   ]
  },
  {
   "cell_type": "code",
   "execution_count": 17,
   "metadata": {
    "collapsed": false
   },
   "outputs": [],
   "source": [
    "collapsed_enrichments <- collapsed_enrichments[grep(collapsed_enrichments[,1],\n",
    "                                              pattern = \"TCR SIGNALING IN NA\",\n",
    "                                              invert=TRUE),]\n",
    "collapsed_enrichments <- collapsed_enrichments[grep(collapsed_enrichments[,1],\n",
    "                                              pattern = \"LOSS OF PROTEINS REQUIRED FOR INTERPHASE MICROTUBULE\",\n",
    "                                              invert=TRUE),]\n",
    "collapsed_enrichments <- collapsed_enrichments[grep(collapsed_enrichments[,1],\n",
    "                                              pattern = \"DOWNSTREAM SIGNALING IN NA\",\n",
    "                                              invert=TRUE),]"
   ]
  },
  {
   "cell_type": "code",
   "execution_count": 18,
   "metadata": {
    "collapsed": true
   },
   "outputs": [],
   "source": [
    "enrichment_results_file_name <- paste(\"mastermap_enrichments_fdr\", fdr_thresh, \"_minexp\", min_experiments,\".txt\", sep=\"\")\n",
    "write.table( collapsed_enrichments, file=enrichment_results_file_name, sep=\"\\t\", row.names=FALSE, col.names=TRUE,quote=FALSE)"
   ]
  },
  {
   "cell_type": "markdown",
   "metadata": {},
   "source": [
    "## Initialize cytoscape"
   ]
  },
  {
   "cell_type": "code",
   "execution_count": 31,
   "metadata": {
    "collapsed": false
   },
   "outputs": [
    {
     "name": "stdout",
     "output_type": "stream",
     "text": [
      "[1] \"http://localhost:1234/v1\"\n",
      "      apiVersion cytoscapeVersion \n",
      "            \"v1\"          \"3.4.0\" \n"
     ]
    }
   ],
   "source": [
    "library(RJSONIO)\n",
    "library(httr)\n",
    "\n",
    "port.number=1234\n",
    "base.url = paste(\"http://localhost:\",toString(port.number),\"/v1\", sep=\"\")\n",
    "\n",
    "print(base.url)\n",
    "\n",
    "version.url = paste(base.url,\"version\", sep=\"/\")\n",
    "cytoscape.version = GET(version.url)\n",
    "cy.version = fromJSON(rawToChar(cytoscape.version$content))\n",
    "print(cy.version)"
   ]
  },
  {
   "cell_type": "code",
   "execution_count": 32,
   "metadata": {
    "collapsed": true
   },
   "outputs": [],
   "source": [
    "enrichmentmap.url <- paste(base.url, \"commands\", \"enrichmentmap\", \"build\", sep=\"/\")\n",
    "#mac file paths\n",
    "gmt_file=\"/Users/risserlin/Dropbox (Bader Lab)/Ruth Isserlin's files/Enrichment_Analyses/Mastermap/notebooks/One_expression_file_example/GSEA_results/Human_AllPathwaysGOBP_noiea_May_14_2013_symbol.gmt\"\n",
    "path_to_file=\"/Users/risserlin/Dropbox (Bader Lab)/Ruth Isserlin's files/Enrichment_Analyses/Mastermap/notebooks/One_expression_file_example/GSEA_results/\"\n",
    "exp_file=\"/Users/risserlin/Dropbox (Bader Lab)/Ruth Isserlin's files/Enrichment_Analyses/Mastermap/notebooks/One_expression_file_example/Human_Proteome_Map_spectral_count_gene_tissue.txt\"\n",
    "#windows file paths\n",
    "#gmt_file=\"C:/Users/zaphod/Ruth_dropbox/Dropbox (Bader Lab)/Ruth Isserlin's files/Enrichment_Analyses/Mastermap/notebooks/One_expression_file_example/GSEA_results/Human_AllPathwaysGOBP_noiea_May_14_2013_symbol.gmt\"\n",
    "#exp_file=\"C:/Users/zaphod/Ruth_dropbox/Dropbox (Bader Lab)/Ruth Isserlin's files/Enrichment_Analyses/Mastermap/notebooks/One_expression_file_example/Human_Proteome_Map_spectral_count_gene_tissue.gct\"\n",
    "#path_to_file=\"C:/Users/zaphod/Ruth_dropbox/Dropbox (Bader Lab)/Ruth Isserlin's files/Enrichment_Analyses/Mastermap/notebooks/One_expression_file_example/GSEA_results/\""
   ]
  },
  {
   "cell_type": "markdown",
   "metadata": {},
   "source": [
    "## Create Mastermap"
   ]
  },
  {
   "cell_type": "code",
   "execution_count": 33,
   "metadata": {
    "collapsed": false
   },
   "outputs": [],
   "source": [
    "enr_file = paste(path_to_file,enrichment_results_file_name,sep=\"\")\n",
    "\n",
    "em_params <- list(analysisType = \"gsea\",enrichmentsDataset1 = enr_file,pvalue=\"1.0\",qvalue=\"0.05\",\n",
    "                  expressionDataset1 = exp_file, gmtFile = gmt_file,\n",
    "                  similaritycutoff=similarity_cutoff,coeffecients=similarity_metric)\n",
    "\n",
    "response <- GET(url=enrichmentmap.url, query=em_params)"
   ]
  },
  {
   "cell_type": "code",
   "execution_count": 34,
   "metadata": {
    "collapsed": false
   },
   "outputs": [
    {
     "data": {
      "text/html": [
       "'Finished\n",
       "'"
      ],
      "text/latex": [
       "'Finished\n",
       "'"
      ],
      "text/markdown": [
       "'Finished\n",
       "'"
      ],
      "text/plain": [
       "[1] \"Finished\\n\""
      ]
     },
     "execution_count": 34,
     "metadata": {},
     "output_type": "execute_result"
    }
   ],
   "source": [
    "content(response, \"text\",encoding=\"ISO-8859-1\")"
   ]
  },
  {
   "cell_type": "markdown",
   "metadata": {},
   "source": [
    "## Create a different version of Mastermap with just the Fetal samples"
   ]
  },
  {
   "cell_type": "code",
   "execution_count": 49,
   "metadata": {
    "collapsed": false
   },
   "outputs": [],
   "source": [
    "min_experiments <- 3\n",
    "fetal_subset <- gsea_enrichments[grep(pattern = \"Fetal\", gsea_enrichments[,1]),]\n",
    "\n",
    "#filter gsea enrichment by thresholds\n",
    "#only include NES scores that are > 0 (for the proteomics data the under-enriched is not fitting for this analysis)\n",
    "fetal_subset_filtered <- fetal_subset[which(fetal_subset[,'NOM p-val']<=pval_thresh & \n",
    "                                                    fetal_subset[,'FDR q-val']<=fdr_thresh & \n",
    "                                                    fetal_subset[,'NES']>NES_thresh),]\n",
    "\n",
    "#row_names - get the unique set of pathways that is contained in the collated data.  column 2 indicates the pathway name\n",
    "row_names <- unique(fetal_subset_filtered[,2])\n",
    "#column_names - get the unique set of experiments contains in the collated data.  column 1 indicates the experiment type\n",
    "column_names <- unique(fetal_subset_filtered[,1])\n",
    "\n",
    "#create a matrix which will store the tissue profiles for all genesets in the thresholded set\n",
    "fetal_subset_pathways2experiments_significant <- matrix(nrow=length(row_names), ncol=length(column_names),dimnames=list(row_names, column_names))\n",
    "fetal_subset_pathways2experiments_all <- matrix(nrow=length(row_names), ncol=length(column_names),dimnames=list(row_names, column_names))\n",
    "\n",
    "for (i in 1:length(row_names)){\n",
    "  for (j in 1:length(column_names)){\n",
    "      #only add the NES value if this pathway is significant for this experiment\n",
    "    if(length(which(fetal_subset_filtered[,1] == column_names[j] & \n",
    "                    fetal_subset_filtered[,2] == row_names[i])) > 0 ){\n",
    "        fetal_subset_pathways2experiments_significant[i,j] = fetal_subset_filtered[which(fetal_subset_filtered[,1] == column_names[j] & \n",
    "                                                               fetal_subset_filtered[,2] == row_names[i]), 'NES']   \n",
    "    }\n",
    "      #only add the NES value if it exists in the enrichments (irrespective of significance)\n",
    "      if(length(which(fetal_subset[,1] == column_names[j] & \n",
    "                    fetal_subset[,2] == row_names[i])) > 0 ){\n",
    "      fetal_subset_pathways2experiments_all[i,j] = fetal_subset[which(fetal_subset[,1] == column_names[j] & \n",
    "                                                               fetal_subset[,2] == row_names[i]), 'NES']\n",
    "      }\n",
    "  }\n",
    "}\n",
    "\n",
    "# only include the pathways that are significant in at least X experiments\n",
    "fetal_subset_pathways2experiments_significant <- fetal_subset_pathways2experiments_significant[\n",
    "    which(apply(fetal_subset_pathways2experiments_significant,1, function(x){length(which(x!=0))}) >= min_experiments),]\n",
    "fetal_subset_pathways2experiments_all <- fetal_subset_pathways2experiments_all[\n",
    "    which(apply(fetal_subset_pathways2experiments_significant,1, function(x){length(which(x!=0))}) >= min_experiments),]\n",
    "\n",
    "# create a fake gsea summary enrichment file.  Can't use generic without loading in the gmt file and computing genes\n",
    "# that belong to each set.  In order to use gsea option enrichment file needs to be in the same format as gsea.\n",
    "\n",
    "#create a collapsed enrichment file\n",
    "# NES and ES are just the summed values\n",
    "# p-value and q-value is the average\n",
    "collapsedenr_column_names = c(\"Name\",\"GS\",\"GS DETAILS\",\"SIZE\",\"ES\", \"NES\",\"NOM p-val\",\"FDR q-val\",\"FWER p-val\",\"RANK AT MAX\",\"LEADING EDGE\");\n",
    "\n",
    "#limit to a subset\n",
    "row_names_subset <- rownames(fetal_subset_pathways2experiments_significant)[\n",
    "    which(apply(fetal_subset_pathways2experiments_significant,1, function(x){length(which(x!=0))}) >= min_experiments)]\n",
    "\n",
    "collapsed_enrichments<- matrix(nrow=length(row_names_subset), ncol=length(collapsedenr_column_names),\n",
    "                               dimnames=list(row_names_subset, collapsedenr_column_names))\n",
    "#go through the genesets\n",
    "for (i in 1:length(row_names_subset)){\n",
    "  #get all the genesets from the filtered set\n",
    "  indices <- which(fetal_subset_filtered[,2] == row_names_subset[i])\n",
    "  subset <- fetal_subset_filtered[indices,];\n",
    "  #grab the first name,gs,gs details, size - they are all the same \n",
    "  collapsed_enrichments[i,1] <- subset[1,2]\n",
    "  collapsed_enrichments[i,2] <- subset[1,3]\n",
    "  collapsed_enrichments[i,3] <- subset[1,4]\n",
    "  collapsed_enrichments[i,4] <- subset[1,5]\n",
    "  #get the summed ES score\n",
    "  collapsed_enrichments[i,5] <- sum(subset[,6])\n",
    "  #get the summed NES score\n",
    "  collapsed_enrichments[i,6] <- sum(subset[,7])\n",
    "  #get the average pvalue\n",
    "  collapsed_enrichments[i,7] <- 0.01\n",
    "  #get the average fdr\n",
    "  collapsed_enrichments[i,8] <- 0.01\n",
    "  #get the average FWER\n",
    "  collapsed_enrichments[i,9] <- mean(subset[,10])\n",
    "  #get the first rank at max\n",
    "  collapsed_enrichments[i,10] <- max(subset[,11])\n",
    "  collapsed_enrichments[i,11] <- subset[1,12]\n",
    "\n",
    "}\n",
    "\n",
    "collapsed_enrichments[,1] <- trimws(collapsed_enrichments[,1])\n",
    "collapsed_enrichments[,2] <- trimws(collapsed_enrichments[,2])\n",
    "rownames(collapsed_enrichments) <- trimws(rownames(collapsed_enrichments))\n",
    "\n",
    "collapsed_enrichments <- collapsed_enrichments[grep(collapsed_enrichments[,1],\n",
    "                                              pattern = \"TCR SIGNALING IN NA\",\n",
    "                                              invert=TRUE),]\n",
    "collapsed_enrichments <- collapsed_enrichments[grep(collapsed_enrichments[,1],\n",
    "                                              pattern = \"LOSS OF PROTEINS REQUIRED FOR INTERPHASE MICROTUBULE\",\n",
    "                                              invert=TRUE),]\n",
    "collapsed_enrichments <- collapsed_enrichments[grep(collapsed_enrichments[,1],\n",
    "                                              pattern = \"DOWNSTREAM SIGNALING IN NA\",\n",
    "                                              invert=TRUE),]\n",
    "\n",
    "enrichment_results_file_name <- paste(\"Fetal_only_mastermap_enrichments_fdr\", fdr_thresh, \"_minexp\", min_experiments,\".txt\", sep=\"\")\n",
    "write.table( collapsed_enrichments, file=enrichment_results_file_name, sep=\"\\t\", row.names=FALSE, col.names=TRUE,quote=FALSE)"
   ]
  },
  {
   "cell_type": "code",
   "execution_count": 50,
   "metadata": {
    "collapsed": true
   },
   "outputs": [],
   "source": [
    "#output the pathways2experiments_all\n",
    "#\n",
    "# The pathways2experiments file is a matrix of pathways to experiments where each value in the matrix is a significant NES value.\n",
    "# This table can be used to calculate which genesets pass the minimum expereiment threshold but should not be used \n",
    "# as an expression file for vista clara plugin as it is missing NES values for pathways and experiments that were not significant\n",
    "\n",
    "fetal_subset_pathways2experiments_all[is.na(fetal_subset_pathways2experiments_all)] <- 0\n",
    "#we are not interested in the sets that are significant in rest of the tissues.\n",
    "fetal_subset_pathways2experiments_all[which(fetal_subset_pathways2experiments_all < 0)] <- 0\n",
    "rownames(fetal_subset_pathways2experiments_all) <- trimws(rownames(fetal_subset_pathways2experiments_all))\n",
    "output_pathways2experiments_all <- cbind(rownames(fetal_subset_pathways2experiments_all), \n",
    "                                         fetal_subset_pathways2experiments_all)\n",
    "\n",
    "output_pathways2experiments_all <- output_pathways2experiments_all[grep(output_pathways2experiments_all[,1],\n",
    "                                              pattern = \"TCR SIGNALING IN NA\",\n",
    "                                              invert=TRUE),]\n",
    "output_pathways2experiments_all<- output_pathways2experiments_all[grep(output_pathways2experiments_all[,1],\n",
    "                                              pattern = \"LOSS OF PROTEINS REQUIRED FOR INTERPHASE MICROTUBULE\",\n",
    "                                              invert=TRUE),]\n",
    "output_pathways2experiments_all<- output_pathways2experiments_all[grep(output_pathways2experiments_all[,1],\n",
    "                                              pattern = \"DOWNSTREAM SIGNALING IN NA\",\n",
    "                                              invert=TRUE),]\n",
    "write.table(output_pathways2experiments_all, file=paste(\"fetal_subset_pathways2experiments_all\",\"_minexp\", min_experiments,\".txt\",sep=\"\"), sep=\"\\t\", \n",
    "            row.names=FALSE, col.names=TRUE,quote=FALSE)\n",
    "\n",
    "\n",
    "#output the pathways2experiments_significant as well\n",
    "#\n",
    "\n",
    "fetal_subset_pathways2experiments_significant[is.na(fetal_subset_pathways2experiments_significant)] <- 0\n",
    "rownames(fetal_subset_pathways2experiments_significant) <- trimws(rownames(fetal_subset_pathways2experiments_significant))\n",
    "output_pathways2experiments_significant <- cbind(rownames(fetal_subset_pathways2experiments_significant), \n",
    "                                                 fetal_subset_pathways2experiments_significant)\n",
    "\n",
    "output_pathways2experiments_significant <- output_pathways2experiments_significant[grep(output_pathways2experiments_significant[,1],\n",
    "                                              pattern = \"TCR SIGNALING IN NA\",\n",
    "                                              invert=TRUE),]\n",
    "output_pathways2experiments_significant<- output_pathways2experiments_significant[grep(output_pathways2experiments_significant[,1],\n",
    "                                              pattern = \"LOSS OF PROTEINS REQUIRED FOR INTERPHASE MICROTUBULE\",\n",
    "                                              invert=TRUE),]\n",
    "output_pathways2experiments_significant <- output_pathways2experiments_significant[grep(output_pathways2experiments_significant[,1],\n",
    "                                              pattern = \"DOWNSTREAM SIGNALING IN NA\",\n",
    "                                              invert=TRUE),]\n",
    "\n",
    "write.table(output_pathways2experiments_significant, file=paste(\"fetal_subset_pathways2experiments_significant\",\"_minexp\", min_experiments,\".txt\",sep=\"\"), sep=\"\\t\", \n",
    "            row.names=FALSE, col.names=TRUE,quote=FALSE)\n"
   ]
  },
  {
   "cell_type": "code",
   "execution_count": null,
   "metadata": {
    "collapsed": true
   },
   "outputs": [],
   "source": []
  },
  {
   "cell_type": "code",
   "execution_count": 47,
   "metadata": {
    "collapsed": false
   },
   "outputs": [],
   "source": [
    "enr_file = paste(path_to_file,enrichment_results_file_name,sep=\"\")\n",
    "\n",
    "em_params <- list(analysisType = \"gsea\",enrichmentsDataset1 = enr_file,pvalue=\"1.0\",qvalue=\"0.05\",\n",
    "                  expressionDataset1 = exp_file, gmtFile = gmt_file,\n",
    "                  similaritycutoff=similarity_cutoff,coeffecients=similarity_metric)\n",
    "\n",
    "response <- GET(url=enrichmentmap.url, query=em_params)"
   ]
  },
  {
   "cell_type": "code",
   "execution_count": null,
   "metadata": {
    "collapsed": true
   },
   "outputs": [],
   "source": []
  }
 ],
 "metadata": {
  "kernelspec": {
   "display_name": "R",
   "language": "R",
   "name": "ir"
  },
  "language_info": {
   "codemirror_mode": "r",
   "file_extension": ".r",
   "mimetype": "text/x-r-source",
   "name": "R",
   "pygments_lexer": "r",
   "version": "3.2.2"
  }
 },
 "nbformat": 4,
 "nbformat_minor": 0
}
