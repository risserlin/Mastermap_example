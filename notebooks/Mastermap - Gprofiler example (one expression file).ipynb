{
 "cells": [
  {
   "cell_type": "markdown",
   "metadata": {},
   "source": [
    "# Mastermap\n",
    "------\n",
    "Mastermap is an Enrichment map that contains more than 2 enrichment analyses.\n",
    "\n",
    "## Input\n",
    "\n",
    "1. ***Expression file (Optional)*** - a file with absolute or relative expression values for a set of genes and experiments.\n",
    "  * Two different options:\n",
    "    * One expression file where each column represents an individual experiment and there are N columns (one for each of the N experiments.)\n",
    "    * N expression files where each file contains the expression for each experiment (possibly with ctrl vs treatment values)\n",
    "    \n",
    "1. ***Enrichment Results***\n",
    "  * Two different options:\n",
    "    * GSEA results\n",
    "      * a GMT file\n",
    "      * N GSEA output directories with enrichment results\n",
    "    * Gprofiler/David/Bingo results\n",
    "      * N enrichment results files.\n",
    "      \n",
    "1. ***User specified parameters***:\n",
    "  * p-value threshold (Optional)\n",
    "  * q-value threshold\n",
    "  * Minimum number of experiments pathway needs to appear in for it to be included in output\n",
    "  * ~~NES threshold (Optional, GSEA speciric, not sure if it is required)~~\n",
    "\n",
    "------\n",
    "\n",
    "## Generating a Mastermap in the absence of an app.\n",
    "\n",
    "### Collate all the gprofiler enrichment results.\n",
    "\n",
    "1. Place all the gprofiler enrichment files into one directory.\n",
    "1. Navigate to that directory and run the following shell script\n",
    "<pre>\n",
    "`\n",
    "    #go through each gprofiler file\n",
    "    for file in `ls *_gprofiler_results.txt`; do\n",
    "        \n",
    "        NAME1=`echo $file | cut -d'_' -f1 `\n",
    "        NAME2=`echo $file | cut -d'_' -f2 `\n",
    "        NAME=${NAME1}_${NAME2}\n",
    "        #append the name to the gprofiler results file\t\t\n",
    "        awk -v name=\"${NAME}\" '{print name\"\\t\", $0}' $file > ${file}_forR\n",
    "        #remove the first line\n",
    "        tail +2 ${file}_forR > temp.txt\n",
    "        mv temp.txt ${file}_forR\n",
    "        \n",
    "    done\n",
    "    #merge all results into one file\n",
    "    cat *_forR > gprofiler_reports_alltissues.txt\n",
    "    rm *_forR\n",
    "`\n",
    "</pre>\n",
    "1. The above shell script will go into each of the gprofiler results file (based on the presence of *_gprofiler_results.txt in the file name.  and append the file name as the first column to the gprofiler results file.  The files for each of the folders is appended to create the file   \n",
    "  * gprofiler results files contain the following headers:\n",
    "    1. NAME\n",
    "    1. Description\n",
    "    1. p-value\n",
    "    1. q-value\n",
    "    1. phenotype\n",
    "    1. genes\n",
    "  * Resulting \"gprofiler_reports_alltisues.txt\" file contains the same headers with the addition of one column in front of Name\n",
    "    1. Analysis name - taken from the name of the gprofiler results file."
   ]
  },
  {
   "cell_type": "markdown",
   "metadata": {},
   "source": [
    "## User defined thresholds"
   ]
  },
  {
   "cell_type": "code",
   "execution_count": 6,
   "metadata": {
    "collapsed": true
   },
   "outputs": [],
   "source": [
    "pval_thresh <- 0.01\n",
    "fdr_thresh <- 0.01\n",
    "min_experiments <- 3\n",
    "\n",
    "similarity_cutoff <- \"0.25\"\n",
    "similarity_metric <- \"JACCARD\""
   ]
  },
  {
   "cell_type": "markdown",
   "metadata": {},
   "source": [
    "## Load file containing the collated gprofiler results"
   ]
  },
  {
   "cell_type": "code",
   "execution_count": 4,
   "metadata": {
    "collapsed": true
   },
   "outputs": [],
   "source": [
    "#set working directory\n",
    "setwd(\"./One_expression_file_example/Gprofiler/\");"
   ]
  },
  {
   "cell_type": "code",
   "execution_count": 14,
   "metadata": {
    "collapsed": false
   },
   "outputs": [],
   "source": [
    "gprofiler_enrichments <- read.table(\"gprofiler_reports_alltissues.txt\", header = TRUE, sep = \"\\t\",as.is = TRUE, quote=\"\\\"\")\n",
    "\n",
    "colnames(gprofiler_enrichments) <- c(\"Experiment\",\"Name\",\"Description\",\"p-value\",\"q-value\",\"pheontype\",\n",
    "                                     \"genes\");\n",
    "\n",
    "\n",
    "#filter gprofiler enrichment by thresholds\n",
    "#only include NES scores that are > 0 (for the proteomics data the under-enriched is not fitting for this analysis)\n",
    "gprofiler_enrichments_filtered <- gprofiler_enrichments[which(gprofiler_enrichments[,'p-value']<=pval_thresh & \n",
    "                                                    gprofiler_enrichments[,'q-value']<=fdr_thresh ),]\n",
    "\n",
    "#row_names - get the unique set of pathways that is contained in the collated data.  column 2 indicates the pathway name\n",
    "row_names <- unique(gprofiler_enrichments_filtered[,2])\n",
    "#column_names - get the unique set of experiments contains in the collated data.  column 1 indicates the experiment type\n",
    "column_names <- unique(gprofiler_enrichments_filtered[,1])\n",
    "\n",
    "#create a matrix which will store the tissue profiles for all genesets in the thresholded set\n",
    "pathways2experiments_significant <- matrix(nrow=length(row_names), ncol=length(column_names),dimnames=list(row_names, column_names))\n",
    "pathways2experiments_all <- matrix(nrow=length(row_names), ncol=length(column_names),dimnames=list(row_names, column_names))\n",
    "\n",
    "for (i in 1:length(row_names)){\n",
    "  for (j in 1:length(column_names)){\n",
    "      #only add the NES value if this pathway is significant for this experiment\n",
    "    if(length(which(gprofiler_enrichments_filtered[,1] == column_names[j] & \n",
    "                    gprofiler_enrichments_filtered[,2] == row_names[i])) > 0 ){\n",
    "        pathways2experiments_significant[i,j] = -log(gprofiler_enrichments_filtered[which(gprofiler_enrichments_filtered[,1] == column_names[j] & \n",
    "                                                               gprofiler_enrichments_filtered[,2] == row_names[i]), \"p-value\"])   \n",
    "    }\n",
    "      #only add the NES value if it exists in the enrichments (irrespective of significance)\n",
    "      if(length(which(gprofiler_enrichments[,1] == column_names[j] & \n",
    "                    gprofiler_enrichments[,2] == row_names[i])) > 0 ){\n",
    "      pathways2experiments_all[i,j] = -log(gprofiler_enrichments[which(gprofiler_enrichments[,1] == column_names[j] & \n",
    "                                                               gprofiler_enrichments[,2] == row_names[i]), \"p-value\"])\n",
    "      }\n",
    "  }\n",
    "}\n",
    "\n",
    "# only include the pathways that are significant in at least X experiments\n",
    "pathways2experiments_significant <- pathways2experiments_significant[\n",
    "    which(apply(pathways2experiments_significant,1, function(x){length(which(x!=0))}) >= min_experiments),]\n",
    "pathways2experiments_all <- pathways2experiments_all[\n",
    "    which(apply(pathways2experiments_significant,1, function(x){length(which(x!=0))}) >= min_experiments),]\n",
    "\n",
    "#output the pathways2experiments_all\n",
    "#\n",
    "# The pathways2experiments file is a matrix of pathways to experiments where each value in the matrix is a significant NES value.\n",
    "# This table can be used to calculate which genesets pass the minimum expereiment threshold but should not be used \n",
    "# as an expression file for vista clara plugin as it is missing NES values for pathways and experiments that were not significant\n",
    "write.table(pathways2experiments_all, file=\"gprofiler_pathways2experiments_all.txt\", sep=\"\\t\", row.names=TRUE, col.names=TRUE,quote=FALSE)\n",
    "\n",
    "\n",
    "# create a fake gprofiler summary enrichment file.\n",
    "\n",
    "#create a collapsed enrichment file\n",
    "# p-value and q-value is the minimum\n",
    "collapsedenr_column_names <- c(\"Name\",\"Description\",\"p-value\",\"q-value\",\"pheontype\",\n",
    "                                     \"genes\");\n",
    "#limit to a subset\n",
    "row_names_subset <- rownames(pathways2experiments_significant)[\n",
    "    which(apply(pathways2experiments_significant,1, function(x){length(which(x!=0))}) >= min_experiments)]\n",
    "\n",
    "collapsed_enrichments<- matrix(nrow=length(row_names_subset), ncol=length(collapsedenr_column_names),\n",
    "                               dimnames=list(row_names_subset, collapsedenr_column_names))\n",
    "#go through the genesets\n",
    "for (i in 1:length(row_names_subset)){\n",
    "  #get all the genesets from the filtered set\n",
    "  indices <- which(gprofiler_enrichments_filtered[,2] == row_names_subset[i])\n",
    "  subset <- gprofiler_enrichments_filtered[indices,];\n",
    "  #grab the first name,gs,gs details, size - they are all the same \n",
    "  collapsed_enrichments[i,1] <- row_names_subset[i]\n",
    "  collapsed_enrichments[i,2] <- subset[1,3]\n",
    "  #get the minimum pvalue, qvalue\n",
    "  collapsed_enrichments[i,3] <- min(subset[,4])\n",
    "  collapsed_enrichments[i,4] <- min(subset[,5])\n",
    "  #get the summed ES score\n",
    "  collapsed_enrichments[i,5] <- 1\n",
    "  #get the summed NES score\n",
    "  collapsed_enrichments[i,6] <- paste(subset[,7], collapse=\",\")\n",
    "\n",
    "}\n"
   ]
  },
  {
   "cell_type": "code",
   "execution_count": 15,
   "metadata": {
    "collapsed": false
   },
   "outputs": [
    {
     "data": {
      "text/html": [
       "<ol class=list-inline>\n",
       "\t<li>220</li>\n",
       "\t<li>6</li>\n",
       "</ol>\n"
      ],
      "text/latex": [
       "\\begin{enumerate*}\n",
       "\\item 220\n",
       "\\item 6\n",
       "\\end{enumerate*}\n"
      ],
      "text/markdown": [
       "1. 220\n",
       "2. 6\n",
       "\n",
       "\n"
      ],
      "text/plain": [
       "[1] 220   6"
      ]
     },
     "execution_count": 15,
     "metadata": {},
     "output_type": "execute_result"
    }
   ],
   "source": [
    "dim(collapsed_enrichments)"
   ]
  },
  {
   "cell_type": "code",
   "execution_count": 16,
   "metadata": {
    "collapsed": true
   },
   "outputs": [],
   "source": [
    "pathways2experiments_all[is.na(pathways2experiments_all)] <- 0\n",
    "rownames(pathways2experiments_all) <- trimws(rownames(pathways2experiments_all))\n",
    "output_pathways2experiments_all <- cbind(rownames(pathways2experiments_all), pathways2experiments_all)\n",
    "\n",
    "write.table(output_pathways2experiments_all, file=\"gprofiler_pathways2experiments_all.txt\", sep=\"\\t\", \n",
    "            row.names=FALSE, col.names=TRUE,quote=FALSE)\n",
    "\n",
    "pathways2experiments_significant[is.na(pathways2experiments_significant)] <- 0\n",
    "rownames(pathways2experiments_significant) <- trimws(rownames(pathways2experiments_significant))\n",
    "output_pathways2experiments_significant <- cbind(rownames(pathways2experiments_significant), pathways2experiments_significant)\n",
    "\n",
    "write.table(output_pathways2experiments_significant, file=\"gprofiler_pathways2experiments_significant.txt\", sep=\"\\t\", \n",
    "            row.names=FALSE, col.names=TRUE,quote=FALSE)\n",
    "\n",
    "\n",
    "enrichment_results_file_name <- paste(\"gprofiler_mastermap_enrichments_fdr\", fdr_thresh, \"_minexp\", min_experiments,\".txt\", sep=\"\")\n",
    "write.table( collapsed_enrichments, file=enrichment_results_file_name, sep=\"\\t\", row.names=FALSE, col.names=TRUE,quote=FALSE)"
   ]
  },
  {
   "cell_type": "markdown",
   "metadata": {},
   "source": [
    "## Initialize Cytoscape"
   ]
  },
  {
   "cell_type": "code",
   "execution_count": 18,
   "metadata": {
    "collapsed": false
   },
   "outputs": [
    {
     "name": "stdout",
     "output_type": "stream",
     "text": [
      "[1] \"http://localhost:1234/v1\"\n",
      "      apiVersion cytoscapeVersion \n",
      "            \"v1\"          \"3.4.0\" \n"
     ]
    }
   ],
   "source": [
    "library(RJSONIO)\n",
    "library(httr)\n",
    "\n",
    "port.number=1234\n",
    "base.url = paste(\"http://localhost:\",toString(port.number),\"/v1\", sep=\"\")\n",
    "\n",
    "print(base.url)\n",
    "\n",
    "version.url = paste(base.url,\"version\", sep=\"/\")\n",
    "cytoscape.version = GET(version.url)\n",
    "cy.version = fromJSON(rawToChar(cytoscape.version$content))\n",
    "print(cy.version)"
   ]
  },
  {
   "cell_type": "code",
   "execution_count": 19,
   "metadata": {
    "collapsed": true
   },
   "outputs": [],
   "source": [
    "enrichmentmap.url <- paste(base.url, \"commands\", \"enrichmentmap\", \"build\", sep=\"/\")\n",
    "#mac file paths\n",
    "path_to_file=\"/Users/risserlin/Dropbox (Bader Lab)/Ruth Isserlin's files/Enrichment_Analyses/Mastermap/notebooks/One_expression_file_example/Gprofiler/\"\n",
    "exp_file=\"/Users/risserlin/Dropbox (Bader Lab)/Ruth Isserlin's files/Enrichment_Analyses/Mastermap/notebooks/One_expression_file_example/Human_Proteome_Map_spectral_count_gene_tissue.txt\"\n",
    "#windows file paths\n",
    "#exp_file=\"C:/Users/zaphod/Ruth_dropbox/Dropbox (Bader Lab)/Ruth Isserlin's files/Enrichment_Analyses/Mastermap/notebooks/One_expression_file_example/Human_Proteome_Map_spectral_count_gene_tissue.gct\"\n",
    "#path_to_file=\"C:/Users/zaphod/Ruth_dropbox/Dropbox (Bader Lab)/Ruth Isserlin's files/Enrichment_Analyses/Mastermap/notebooks/One_expression_file_example/Gprofiler/\""
   ]
  },
  {
   "cell_type": "code",
   "execution_count": 20,
   "metadata": {
    "collapsed": true
   },
   "outputs": [],
   "source": [
    "enr_file = paste(path_to_file,enrichment_results_file_name,sep=\"\")\n",
    "\n",
    "em_params <- list(analysisType = \"generic\",enrichmentsDataset1 = enr_file,pvalue=\"1.0\",qvalue=\"0.05\",\n",
    "                  expressionDataset1 = exp_file, \n",
    "                  similaritycutoff=similarity_cutoff,coeffecients=similarity_metric)\n",
    "\n",
    "response <- GET(url=enrichmentmap.url, query=em_params)"
   ]
  },
  {
   "cell_type": "code",
   "execution_count": null,
   "metadata": {
    "collapsed": true
   },
   "outputs": [],
   "source": []
  }
 ],
 "metadata": {
  "kernelspec": {
   "display_name": "R",
   "language": "R",
   "name": "ir"
  },
  "language_info": {
   "codemirror_mode": "r",
   "file_extension": ".r",
   "mimetype": "text/x-r-source",
   "name": "R",
   "pygments_lexer": "r",
   "version": "3.2.2"
  }
 },
 "nbformat": 4,
 "nbformat_minor": 0
}
