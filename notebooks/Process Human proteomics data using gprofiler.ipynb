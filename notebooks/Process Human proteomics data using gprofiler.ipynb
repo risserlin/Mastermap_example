{
 "cells": [
  {
   "cell_type": "markdown",
   "metadata": {},
   "source": [
    "## Load in the expression file"
   ]
  },
  {
   "cell_type": "code",
   "execution_count": 1,
   "metadata": {
    "collapsed": false
   },
   "outputs": [],
   "source": [
    "#set working directory\n",
    "setwd(\"./One_expression_file_example/\");"
   ]
  },
  {
   "cell_type": "code",
   "execution_count": 2,
   "metadata": {
    "collapsed": false
   },
   "outputs": [],
   "source": [
    " Human_Proteome_Map_spectral_count_gene_tissue <- read.table(\"Human_Proteome_Map_spectral_count_gene_tissue.txt\",header=TRUE, \n",
    "                                                             sep = \"\\t\",as.is = TRUE, quote=\"\\\"\")"
   ]
  },
  {
   "cell_type": "code",
   "execution_count": 3,
   "metadata": {
    "collapsed": false
   },
   "outputs": [],
   "source": [
    "path_to_file=\"/Users/risserlin/Dropbox (Bader Lab)/Ruth Isserlin's files/Enrichment_Analyses/Mastermap/notebooks/One_expression_file_example/\"\n",
    "exp_file=\"/Users/risserlin/Dropbox (Bader Lab)/Ruth Isserlin's files/Enrichment_Analyses/Mastermap/notebooks/One_expression_file_example/Human_Proteome_Map_spectral_count_gene_tissue.txt\"\n",
    "#on windows change the \\ to / in order for the pathname to be interpretted correctly.\n",
    "#exp_file=\"C:/Users/zaphod/Ruth_dropbox/Dropbox (Bader Lab)/Ruth Isserlin's files/Enrichment_Analyses/Mastermap/notebooks/One_expression_file_example/Human_Proteome_Map_spectral_count_gene_tissue.txt\"\n",
    "#path_to_file=\"C:/Users/zaphod/Ruth_dropbox/Dropbox (Bader Lab)/Ruth Isserlin's files/Enrichment_Analyses/Mastermap/notebooks/One_expression_file_example/\""
   ]
  },
  {
   "cell_type": "markdown",
   "metadata": {},
   "source": [
    "## function to calculate ranked genelist using KS test"
   ]
  },
  {
   "cell_type": "code",
   "execution_count": 4,
   "metadata": {
    "collapsed": true
   },
   "outputs": [],
   "source": [
    "dataKSLGtest_stats = function(data, num_samples = dim(data)[2], end = dim(data)[2]/2 ){\n",
    "\n",
    "#given a matrix with a set of points for two different states\n",
    "# calculate the p-values for each pair of states using a ks-test.  Both the lesser\n",
    "# and greater KS test is calculated.  Whichever statistic is the largest is returned.\n",
    "# This method by default assumes that there are equal data points for each\n",
    "# state so it get the column count of x and assumes that the first\n",
    "# x/2 columns are from state 1 and the remaining are from state 2.\n",
    "\n",
    "\n",
    "#if there is not an equal number of state 1 and state 2 the user can specify\n",
    "# the number of data points and how you want to divide them by telling it how \n",
    "# many samples should be in the first group\n",
    "     \n",
    "    #create a matrix to store the resulting pvalues and statistics\n",
    "    stat.mat = matrix(0,dim(data)[1],2)\n",
    "\n",
    "    num_iter = dim(data)[1]\n",
    "    start = end + 1\n",
    "\n",
    "    for(i in 1:num_iter){\n",
    "\n",
    "            less_temp = try(suppressWarnings(ks.test(t(data[i,1:end]), t(data[i,start:num_samples]),alternative = \"less\")),TRUE)\n",
    "            if(inherits(less_temp, \"try-error\")) stat.mat[i,1] = 1\n",
    "\n",
    "            greater_temp = try(suppressWarnings(ks.test(t(data[i,1:end]), t(data[i,start:num_samples]),alternative = \"greater\")),TRUE)\n",
    "            if(inherits(greater_temp, \"try-error\")) stat.mat[i,1] = 1\n",
    "\n",
    "            if(less_temp$statistic > greater_temp$statistic){\n",
    "                stat.mat[i,1] = less_temp$statistic\n",
    "                stat.mat[i,2] = less_temp$p.value\n",
    "            }\n",
    "            else if(less_temp$statistic <= greater_temp$statistic){\n",
    "                stat.mat[i,1] = (-1) * greater_temp$statistic\n",
    "                stat.mat[i,2] = greater_temp$p.value\n",
    "            }\n",
    "\n",
    "    }                \n",
    "    stat.mat\n",
    "\n",
    "}"
   ]
  },
  {
   "cell_type": "code",
   "execution_count": 17,
   "metadata": {
    "collapsed": false
   },
   "outputs": [],
   "source": [
    "library(\"gProfileR\");\n",
    "\n",
    "#calculate the ks test statistics for each column 3 - 32\n",
    "\n",
    "#create a temporary matrix\n",
    "for(j in 3:32){\n",
    "    if(j==3){\n",
    "      current <- Human_Proteome_Map_spectral_count_gene_tissue[,3:32]\n",
    "      rownames(current) <- rownames(Human_Proteome_Map_spectral_count_gene_tissue)\n",
    "      colnames(current) <- colnames(Human_Proteome_Map_spectral_count_gene_tissue)[3:32]\n",
    "    }\n",
    "    else{\n",
    "        current <- cbind(Human_Proteome_Map_spectral_count_gene_tissue[,j:32],Human_Proteome_Map_spectral_count_gene_tissue[,3:(j-1)])\n",
    "        rownames(current) <- rownames(Human_Proteome_Map_spectral_count_gene_tissue)\n",
    "        colnames(current) <- c(colnames(Human_Proteome_Map_spectral_count_gene_tissue)[j:32], colnames(Human_Proteome_Map_spectral_count_gene_tissue)[3:(j-1)])\n",
    "    }\n",
    "    ks_stats_current <- dataKSLGtest_stats(current, end = 1)\n",
    "    rownames(ks_stats_current) <-  Human_Proteome_Map_spectral_count_gene_tissue[,1]\n",
    "    \n",
    "    #get the set of genes that are in the top 5% by p-value to be tissue specific\n",
    "    top_5percentile <- quantile(ks_stats_current[,2],0.05)\n",
    "    genes <- rownames(ks_stats_current)[which(ks_stats_current[,2]<top_5percentile & ks_stats_current[,1] >0)]\n",
    "    \n",
    "    #order the genes by ks statistic and only include the genes that have positive statistic\n",
    "    a <- ks_stats_current[which(ks_stats_current[,1] >0),]\n",
    "    genes_ordered <- a[order(a[,1],decreasing = TRUE),]\n",
    "    \n",
    "    \n",
    "    #run gprofiler on the set of genes \n",
    "    gprofiler_results <- gprofiler(rownames(genes_ordered),significant=F,ordered_query = T,\n",
    "                                           exclude_iea=T,max_set_size = 500,\n",
    "                                           correction_method = \"fdr\",\n",
    "                                           src_filter = c(\"GO:BP\",\"KEGG\",\"REAC\"))\n",
    "    \n",
    "    #filter gprofiler results\n",
    "    gprofiler_results <- gprofiler_results[which(gprofiler_results[,'term.size'] >= 3\n",
    "                                        & gprofiler_results[,'overlap.size'] >= 2 ),]\n",
    "    if(dim(gprofiler_results)[1] > 1){\n",
    "        #write out the gprofiler results\n",
    "        # gProfileR returns corrected p-values only.  Set p-value to corrected p-value\n",
    "        em_results <- cbind(gprofiler_results[,c(\"term.id\",\"term.name\",\"p.value\",\"p.value\")], 1,\n",
    "                                gprofiler_results[,\"intersection\"])\n",
    "        colnames(em_results) <- c(\"Name\",\"Description\", \"pvalue\",\"qvalue\",\"phenotype\",\"genes\")\n",
    "\n",
    "        em_results_filename <- paste(\"./gprofiler/\",colnames(current)[1],\"_gprofiler_results_ordered_nothresh.txt\",sep=\"\")\n",
    "        em_results_filename_fullpath <- paste(path_to_file,\"/gprofiler/\",colnames(current)[1],\"_gprofiler_results.txt\",sep=\"\")\n",
    "\n",
    "        write.table(em_results,em_results_filename,col.name=TRUE,sep=\"\\t\",row.names=FALSE,quote=FALSE)\n",
    "    }\n",
    "}"
   ]
  },
  {
   "cell_type": "code",
   "execution_count": 7,
   "metadata": {
    "collapsed": false
   },
   "outputs": [
    {
     "data": {
      "text/html": [
       "0.144665176638995"
      ],
      "text/latex": [
       "0.144665176638995"
      ],
      "text/markdown": [
       "0.144665176638995"
      ],
      "text/plain": [
       "[1] 0.1446652"
      ]
     },
     "execution_count": 7,
     "metadata": {},
     "output_type": "execute_result"
    }
   ],
   "source": [
    "j <- 3\n",
    "current <- Human_Proteome_Map_spectral_count_gene_tissue[,3:32]\n",
    "      rownames(current) <- rownames(Human_Proteome_Map_spectral_count_gene_tissue)\n",
    "      colnames(current) <- colnames(Human_Proteome_Map_spectral_count_gene_tissue)[3:32]\n",
    "\n",
    "ks_stats_current <- dataKSLGtest_stats(current, end = 1)\n",
    "    rownames(ks_stats_current) <-  Human_Proteome_Map_spectral_count_gene_tissue[,1]\n",
    "    \n",
    "rownames(ks_stats_current) <- Human_Proteome_Map_spectral_count_gene_tissue[,1]\n",
    "min(ks_stats_current[,2])\n",
    "top_5percentile <- quantile(ks_stats_current[,2],0.05)\n",
    "genes <- rownames(ks_stats_current)[which(ks_stats_current[,2]<top_5percentile & ks_stats_current[,1] >0)]"
   ]
  },
  {
   "cell_type": "code",
   "execution_count": 12,
   "metadata": {
    "collapsed": true
   },
   "outputs": [],
   "source": []
  },
  {
   "cell_type": "code",
   "execution_count": 15,
   "metadata": {
    "collapsed": false
   },
   "outputs": [
    {
     "data": {
      "text/html": [
       "<ol class=list-inline>\n",
       "\t<li>5371</li>\n",
       "\t<li>2</li>\n",
       "</ol>\n"
      ],
      "text/latex": [
       "\\begin{enumerate*}\n",
       "\\item 5371\n",
       "\\item 2\n",
       "\\end{enumerate*}\n"
      ],
      "text/markdown": [
       "1. 5371\n",
       "2. 2\n",
       "\n",
       "\n"
      ],
      "text/plain": [
       "[1] 5371    2"
      ]
     },
     "execution_count": 15,
     "metadata": {},
     "output_type": "execute_result"
    }
   ],
   "source": [
    "dim(b)"
   ]
  },
  {
   "cell_type": "code",
   "execution_count": 31,
   "metadata": {
    "collapsed": true
   },
   "outputs": [],
   "source": [
    "library(\"gProfileR\");\n",
    "\n",
    "gprofiler_results <- gprofiler(genes,significant=T,ordered_query = F,\n",
    "                                           exclude_iea=T,max_set_size = 500,\n",
    "                                           correction_method = \"fdr\",\n",
    "                                           src_filter = c(\"GO:BP\",\"KEGG\",\"REAC\"))"
   ]
  },
  {
   "cell_type": "code",
   "execution_count": 32,
   "metadata": {
    "collapsed": false
   },
   "outputs": [
    {
     "data": {
      "text/html": [
       "<table>\n",
       "<thead><tr><th></th><th scope=col>query.number</th><th scope=col>significant</th><th scope=col>p.value</th><th scope=col>term.size</th><th scope=col>query.size</th><th scope=col>overlap.size</th><th scope=col>recall</th><th scope=col>precision</th><th scope=col>term.id</th><th scope=col>domain</th><th scope=col>subgraph.number</th><th scope=col>term.name</th><th scope=col>relative.depth</th><th scope=col>intersection</th></tr></thead>\n",
       "<tbody>\n",
       "\t<tr><th scope=row>1</th><td>1</td><td>TRUE</td><td>0.000221</td><td>432</td><td>428</td><td>28</td><td>0.065</td><td>0.065</td><td>GO:0007017</td><td>BP</td><td>70</td><td>microtubule-based process</td><td>1</td><td>STMN4,EPHA3,CDC42,CLASP1,DYNC1I2,MAPRE1,STMN2,ARHGAP21,APC2,KIF21B,STMN1,TUBA1B,DYNLRB1,KLC1,MACF1,FGF13,SPIRE1,APC,DYNLT1,KIF5A,TUBA1A,TUBA1C,KIF5C,CHD3,CKAP5,TUBB,DYNC1H1,DYX1C1</td></tr>\n",
       "\t<tr><th scope=row>2</th><td>1</td><td>TRUE</td><td>0.0291</td><td>189</td><td>428</td><td>13</td><td>0.03</td><td>0.069</td><td>GO:0032886</td><td>BP</td><td>70</td><td>regulation of microtubule-based process</td><td>2</td><td>EPHA3,CDC42,CLASP1,MAPRE1,STMN2,APC2,STMN1,MACF1,FGF13,APC,CHD3,CKAP5,DYNC1H1</td></tr>\n",
       "\t<tr><th scope=row>3</th><td>1</td><td>TRUE</td><td>0.0318</td><td>168</td><td>428</td><td>12</td><td>0.028</td><td>0.071</td><td>GO:0070507</td><td>BP</td><td>70</td><td>regulation of microtubule cytoskeleton organization</td><td>1</td><td>EPHA3,CDC42,CLASP1,MAPRE1,STMN2,APC2,STMN1,FGF13,APC,CHD3,CKAP5,DYNC1H1</td></tr>\n",
       "\t<tr><th scope=row>4</th><td>1</td><td>TRUE</td><td>0.000256</td><td>13</td><td>428</td><td>5</td><td>0.012</td><td>0.385</td><td>GO:0008045</td><td>BP</td><td>37</td><td>motor neuron axon guidance</td><td>1</td><td>PLXNA2,PLXNA1,PLXNA3,PLXNC1,PLXNA4</td></tr>\n",
       "\t<tr><th scope=row>5</th><td>1</td><td>TRUE</td><td>1.39e-06</td><td>6</td><td>428</td><td>5</td><td>0.012</td><td>0.833</td><td>GO:0021785</td><td>BP</td><td>37</td><td>branchiomotor neuron axon guidance</td><td>2</td><td>PLXNA2,PLXNA1,PLXNA3,PLXNC1,PLXNA4</td></tr>\n",
       "\t<tr><th scope=row>6</th><td>1</td><td>TRUE</td><td>0.0124</td><td>414</td><td>428</td><td>23</td><td>0.054</td><td>0.056</td><td>GO:0010563</td><td>BP</td><td>49</td><td>negative regulation of phosphorus metabolic process</td><td>1</td><td>PRKAR2B,GNAI3,YWHAE,OPRM1,LRRC4,LATS1,LRRC4B,APC,PPP1R1A,LMTK3,TIPRL,LRRC4C,LATS2,ADRA2A,PPP1R1C,NELL1,YWHAB,YWHAG,PKIA,SH3BP5L,PPM1E,SFN,GRM3</td></tr>\n",
       "</tbody>\n",
       "</table>\n"
      ],
      "text/latex": [
       "\\begin{tabular}{r|llllllllllllll}\n",
       "  & query.number & significant & p.value & term.size & query.size & overlap.size & recall & precision & term.id & domain & subgraph.number & term.name & relative.depth & intersection\\\\\n",
       "\\hline\n",
       "\t1 & 1 & TRUE & 0.000221 & 432 & 428 & 28 & 0.065 & 0.065 & GO:0007017 & BP & 70 & microtubule-based process & 1 & STMN4,EPHA3,CDC42,CLASP1,DYNC1I2,MAPRE1,STMN2,ARHGAP21,APC2,KIF21B,STMN1,TUBA1B,DYNLRB1,KLC1,MACF1,FGF13,SPIRE1,APC,DYNLT1,KIF5A,TUBA1A,TUBA1C,KIF5C,CHD3,CKAP5,TUBB,DYNC1H1,DYX1C1\\\\\n",
       "\t2 & 1 & TRUE & 0.0291 & 189 & 428 & 13 & 0.03 & 0.069 & GO:0032886 & BP & 70 & regulation of microtubule-based process & 2 & EPHA3,CDC42,CLASP1,MAPRE1,STMN2,APC2,STMN1,MACF1,FGF13,APC,CHD3,CKAP5,DYNC1H1\\\\\n",
       "\t3 & 1 & TRUE & 0.0318 & 168 & 428 & 12 & 0.028 & 0.071 & GO:0070507 & BP & 70 & regulation of microtubule cytoskeleton organization & 1 & EPHA3,CDC42,CLASP1,MAPRE1,STMN2,APC2,STMN1,FGF13,APC,CHD3,CKAP5,DYNC1H1\\\\\n",
       "\t4 & 1 & TRUE & 0.000256 & 13 & 428 & 5 & 0.012 & 0.385 & GO:0008045 & BP & 37 & motor neuron axon guidance & 1 & PLXNA2,PLXNA1,PLXNA3,PLXNC1,PLXNA4\\\\\n",
       "\t5 & 1 & TRUE & 1.39e-06 & 6 & 428 & 5 & 0.012 & 0.833 & GO:0021785 & BP & 37 & branchiomotor neuron axon guidance & 2 & PLXNA2,PLXNA1,PLXNA3,PLXNC1,PLXNA4\\\\\n",
       "\t6 & 1 & TRUE & 0.0124 & 414 & 428 & 23 & 0.054 & 0.056 & GO:0010563 & BP & 49 & negative regulation of phosphorus metabolic process & 1 & PRKAR2B,GNAI3,YWHAE,OPRM1,LRRC4,LATS1,LRRC4B,APC,PPP1R1A,LMTK3,TIPRL,LRRC4C,LATS2,ADRA2A,PPP1R1C,NELL1,YWHAB,YWHAG,PKIA,SH3BP5L,PPM1E,SFN,GRM3\\\\\n",
       "\\end{tabular}\n"
      ],
      "text/plain": [
       "  query.number significant  p.value term.size query.size overlap.size recall\n",
       "1            1        TRUE 2.21e-04       432        428           28  0.065\n",
       "2            1        TRUE 2.91e-02       189        428           13  0.030\n",
       "3            1        TRUE 3.18e-02       168        428           12  0.028\n",
       "4            1        TRUE 2.56e-04        13        428            5  0.012\n",
       "5            1        TRUE 1.39e-06         6        428            5  0.012\n",
       "6            1        TRUE 1.24e-02       414        428           23  0.054\n",
       "  precision    term.id domain subgraph.number\n",
       "1     0.065 GO:0007017     BP              70\n",
       "2     0.069 GO:0032886     BP              70\n",
       "3     0.071 GO:0070507     BP              70\n",
       "4     0.385 GO:0008045     BP              37\n",
       "5     0.833 GO:0021785     BP              37\n",
       "6     0.056 GO:0010563     BP              49\n",
       "                                            term.name relative.depth\n",
       "1                           microtubule-based process              1\n",
       "2             regulation of microtubule-based process              2\n",
       "3 regulation of microtubule cytoskeleton organization              1\n",
       "4                          motor neuron axon guidance              1\n",
       "5                  branchiomotor neuron axon guidance              2\n",
       "6 negative regulation of phosphorus metabolic process              1\n",
       "                                                                                                                                                                         intersection\n",
       "1 STMN4,EPHA3,CDC42,CLASP1,DYNC1I2,MAPRE1,STMN2,ARHGAP21,APC2,KIF21B,STMN1,TUBA1B,DYNLRB1,KLC1,MACF1,FGF13,SPIRE1,APC,DYNLT1,KIF5A,TUBA1A,TUBA1C,KIF5C,CHD3,CKAP5,TUBB,DYNC1H1,DYX1C1\n",
       "2                                                                                                       EPHA3,CDC42,CLASP1,MAPRE1,STMN2,APC2,STMN1,MACF1,FGF13,APC,CHD3,CKAP5,DYNC1H1\n",
       "3                                                                                                             EPHA3,CDC42,CLASP1,MAPRE1,STMN2,APC2,STMN1,FGF13,APC,CHD3,CKAP5,DYNC1H1\n",
       "4                                                                                                                                                  PLXNA2,PLXNA1,PLXNA3,PLXNC1,PLXNA4\n",
       "5                                                                                                                                                  PLXNA2,PLXNA1,PLXNA3,PLXNC1,PLXNA4\n",
       "6                                      PRKAR2B,GNAI3,YWHAE,OPRM1,LRRC4,LATS1,LRRC4B,APC,PPP1R1A,LMTK3,TIPRL,LRRC4C,LATS2,ADRA2A,PPP1R1C,NELL1,YWHAB,YWHAG,PKIA,SH3BP5L,PPM1E,SFN,GRM3"
      ]
     },
     "execution_count": 32,
     "metadata": {},
     "output_type": "execute_result"
    }
   ],
   "source": [
    "head(gprofiler_results)"
   ]
  },
  {
   "cell_type": "code",
   "execution_count": 33,
   "metadata": {
    "collapsed": true
   },
   "outputs": [],
   "source": [
    "gprofiler_results <- gprofiler_results[which(gprofiler_results[,'term.size'] >= 3\n",
    "                                        & gprofiler_results[,'overlap.size'] >= 2 ),]"
   ]
  },
  {
   "cell_type": "code",
   "execution_count": 50,
   "metadata": {
    "collapsed": false
   },
   "outputs": [],
   "source": [
    "# gProfileR returns corrected p-values only.  Set p-value to corrected p-value\n",
    "em_results <- cbind(gprofiler_results[,c(\"term.id\",\"term.name\",\"p.value\",\"p.value\")], 1,\n",
    "                                gprofiler_results[,\"intersection\"])\n",
    "colnames(em_results) <- c(\"Name\",\"Description\", \"pvalue\",\"qvalue\",\"phenotype\",\"genes\")\n",
    "\n",
    "em_results_filename <- paste(\"./gprofiler/\",colnames(current)[1],\"_gprofiler_results.txt\",sep=\"\")\n",
    "em_results_filename_fullpath <- paste(path_to_file,\"/gprofiler/\",colnames(current)[1],\"_gprofiler_results.txt\",sep=\"\")\n",
    "\n",
    "write.table(em_results,em_results_filename,col.name=TRUE,sep=\"\\t\",row.names=FALSE,quote=FALSE)"
   ]
  },
  {
   "cell_type": "code",
   "execution_count": 36,
   "metadata": {
    "collapsed": false
   },
   "outputs": [
    {
     "name": "stdout",
     "output_type": "stream",
     "text": [
      "[1] \"http://localhost:1234/v1\"\n",
      "      apiVersion cytoscapeVersion \n",
      "            \"v1\"          \"3.4.0\" \n"
     ]
    }
   ],
   "source": [
    "library(RJSONIO)\n",
    "\n",
    "library(httr)\n",
    "# Basic settings\n",
    "port.number = 1234\n",
    "base.url = paste(\"http://localhost:\", toString(port.number), \"/v1\", sep=\"\")\n",
    "\n",
    "print(base.url)\n",
    "\n",
    "version.url = paste(base.url, \"version\", sep=\"/\")\n",
    "cytoscape.version = GET(version.url)\n",
    "cy.version = fromJSON(rawToChar(cytoscape.version$content))\n",
    "print(cy.version)"
   ]
  },
  {
   "cell_type": "code",
   "execution_count": 51,
   "metadata": {
    "collapsed": false
   },
   "outputs": [],
   "source": [
    "# to create an Enrichment map we need to specify\n",
    "# analysisType = generic\n",
    "# \n",
    "enrichmentmap.url <- paste(base.url, \"commands\",\"enrichmentmap\",\"build\", sep=\"/\") \n",
    "\n",
    "em_params <- list(analysisType = \"generic\",enrichmentsDataset1 = em_results_filename_fullpath,pvalue=\"1.0\",qvalue=\"0.00001\",\n",
    "                  expressionDataset1 = exp_file, \n",
    "                  similaritycutoff=\"0.25\",coeffecients=\"JACCARD\")\n",
    "\n",
    "response <- GET(url=enrichmentmap.url, query=em_params)"
   ]
  },
  {
   "cell_type": "code",
   "execution_count": 52,
   "metadata": {
    "collapsed": false
   },
   "outputs": [
    {
     "data": {
      "text/html": [
       "'Finished\n",
       "'"
      ],
      "text/latex": [
       "'Finished\n",
       "'"
      ],
      "text/markdown": [
       "'Finished\n",
       "'"
      ],
      "text/plain": [
       "[1] \"Finished\\n\""
      ]
     },
     "execution_count": 52,
     "metadata": {},
     "output_type": "execute_result"
    }
   ],
   "source": [
    "content(response, \"text\", encoding = \"ISO-8859-1\")"
   ]
  },
  {
   "cell_type": "code",
   "execution_count": null,
   "metadata": {
    "collapsed": true
   },
   "outputs": [],
   "source": []
  }
 ],
 "metadata": {
  "kernelspec": {
   "display_name": "R",
   "language": "R",
   "name": "ir"
  },
  "language_info": {
   "codemirror_mode": "r",
   "file_extension": ".r",
   "mimetype": "text/x-r-source",
   "name": "R",
   "pygments_lexer": "r",
   "version": "3.2.2"
  }
 },
 "nbformat": 4,
 "nbformat_minor": 0
}
